{
  "nbformat": 4,
  "nbformat_minor": 0,
  "metadata": {
    "colab": {
      "provenance": []
    },
    "kernelspec": {
      "name": "python3",
      "display_name": "Python 3"
    },
    "language_info": {
      "name": "python"
    }
  },
  "cells": [
    {
      "cell_type": "markdown",
      "source": [
        "LA ESTADISTICA SE DIVIVDE EN DOS RAMAS\n",
        "\n",
        "DESCRIPTIVA: con la informacion ya existente\n",
        "INFERENCIAL: modelos de prediccion\n",
        "\n",
        "\n",
        "ESTAS SE APOYAN EN:\n",
        "\n",
        "DESCRPTIVA:\n",
        "MEDIDAS CENTRALES.\n",
        "DISPERCIONES.\n",
        "GRAFICO.\n",
        "\n",
        "INFERENCIAL:\n",
        "probabilidades.\n",
        "muestreo.\n",
        "hipotesis.\n",
        "\n",
        "la estadistica se aplica en especifico:\n",
        "la investigacion cientifica.\n",
        "economia.\n",
        "medicina.\n",
        "ciencia social.\n",
        "\n",
        "ESTADISTICA DESCRIPTIVA:\n",
        "\n",
        "La estadistica descriptiva es una rama de la estadistica que se encarga de resumir y describir las caracteristicas principales de un conjunto de datos.\n",
        "\n",
        "Para comprender mejor esta defincion podemos desglosarla en sus funciones:\n",
        "\n",
        "Recoleccion y organizacion de datos.\n",
        "\n",
        "Calculo de medidas descriptivas.\n",
        "\n",
        "Presentacion de datos.\n",
        "\n",
        "Identificacion de patrones y relaciones.\n",
        "\n",
        "\n",
        "Estadistica Inferencial:\n",
        "\n",
        "Esta rama de la estadistica se encarga de extraer conclusiones sobre una poblacion a partir de una muesra de datos. Su objetivo es generalizar los resultados obtenidos en la muestra a la poblacion de interes, utilizando metodos probabilisticos para cuantificar la incertidumbre asociada a estas inferencias.\n",
        "\n",
        "Para comprender mejor esta deifinicion, podemos desglosarla en sus funciones principales:\n",
        "\n",
        "Estimacion de parametros.\n",
        "\n",
        "Pruebas de Hipotesis.\n",
        "\n",
        "Intervalos de confianza.\n",
        "\n",
        "Modelado estadístico."
      ],
      "metadata": {
        "id": "1CPekiUn3oun"
      }
    },
    {
      "cell_type": "code",
      "source": [
        "analisis de trafico de red:\n",
        "\n",
        "estadistica descriptivas.\n",
        "resumir datos.\n",
        "identificar patrones.\n",
        "detectar anomalias.\n",
        "\n",
        "tipos de datos:\n",
        "http,https,ftp.\n",
        "\n",
        "patrones:\n",
        "tarda en cargar un formulario:\n",
        "\n",
        "anomalias:\n",
        "las paginas wed muestran problemas con sus interfas y formularios,\n",
        "dentro de estas anomalis podria haber diferentes ataques como un\n",
        "replay atack."
      ],
      "metadata": {
        "id": "2lAWDP5qIVRr"
      },
      "execution_count": null,
      "outputs": []
    },
    {
      "cell_type": "markdown",
      "source": [],
      "metadata": {
        "id": "M9fnp1nHIBOO"
      }
    },
    {
      "cell_type": "markdown",
      "source": [],
      "metadata": {
        "id": "URMB0MZw5z8F"
      }
    }
  ]
}